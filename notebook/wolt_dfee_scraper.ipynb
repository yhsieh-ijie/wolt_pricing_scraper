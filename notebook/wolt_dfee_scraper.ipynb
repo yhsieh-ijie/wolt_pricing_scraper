{
 "cells": [
  {
   "cell_type": "markdown",
   "metadata": {},
   "source": [
    "### Scrape Location-based data\n",
    "Knowledge Source: https://www.youtube.com/watch?v=8Uxxu0-dAKQ"
   ]
  },
  {
   "cell_type": "code",
   "execution_count": 1,
   "metadata": {},
   "outputs": [],
   "source": [
    "# Environment setup\n",
    "import os\n",
    "import sys\n",
    "import warnings\n",
    "import glob\n",
    "import numpy as np\n",
    "root_dir = os.path.join(os.getcwd(), '..')\n",
    "sys.path.append(root_dir)\n",
    "warnings.filterwarnings('ignore')\n",
    "import requests\n",
    "import pandas as pd\n",
    "from datetime import datetime\n",
    "from geopy.geocoders import Nominatim\n",
    "\n",
    "# initialize Nominatim API \n",
    "geolocator = Nominatim(user_agent=\"geoapiExercises\")\n",
    "\n",
    "# Graph\n",
    "import matplotlib.pyplot as plt\n"
   ]
  },
  {
   "cell_type": "code",
   "execution_count": 2,
   "metadata": {},
   "outputs": [],
   "source": [
    "# input parameters: User Geo Location\n",
    "lat = '45.80575529738116'\n",
    "lon = '15.980034797732543'\n",
    "\n",
    "\n",
    "# Get city name\n",
    "location = geolocator.reverse(lat+\",\"+lon, language='en')\n",
    "country_code = location.raw['address']['country_code']\n",
    "city = location.raw['address']['county']"
   ]
  },
  {
   "cell_type": "markdown",
   "metadata": {},
   "source": [
    "### Scrape Wolt Data"
   ]
  },
  {
   "cell_type": "code",
   "execution_count": 27,
   "metadata": {},
   "outputs": [],
   "source": [
    "## FETCH STORE NAME\n",
    "def data_fetch(lat,lon):\n",
    "# fetch data\n",
    "    url = \"https://restaurant-api.wolt.com/v1/pages/restaurants?lat=\"+lat+\"&lon=\"+lon\n",
    "\n",
    "    r = requests.get(url)\n",
    "    print(r.status_code)\n",
    "\n",
    "    data = r.json()\n",
    "    # print(data)\n",
    "\n",
    "    # INFO BREAKDOWN\n",
    "\n",
    "    ## Scrape Date\n",
    "    d = str(data['created']['$date'])+'0000'\n",
    "    d = int(d[:10])\n",
    "    scrape_date = datetime.fromtimestamp(d).strftime('%Y-%m-%d')\n",
    "\n",
    "    ## store_name, delivery_fee\n",
    "    store_name = []\n",
    "    dfee = []\n",
    "    store_lat = []\n",
    "    store_lon = []\n",
    "\n",
    "    for i in data['sections'][0]['items']:\n",
    "        store_name.append(i['venue']['name'])\n",
    "        dfee.append(i['venue']['delivery_price'])\n",
    "        store_lat.append(i['venue']['location'][1])\n",
    "        store_lon.append(i['venue']['location'][0])\n",
    "\n",
    "    df = pd.DataFrame({\n",
    "        'date' : scrape_date,\n",
    "        'user_country': country_code,\n",
    "        'user_city': city,\n",
    "        'user_lat' : lat,\n",
    "        'user_lon': lon,\n",
    "        'store_name': store_name,\n",
    "        'store_lat': store_lat,\n",
    "        'store_lon': store_lon,\n",
    "        'dfee' : dfee})\n",
    "    \n",
    "    return df\n",
    "\n",
    "def distance_cal(df):\n",
    "# calculate distance between user locations and store locations\n",
    "    # change datatype\n",
    "    df[['user_lat','user_lon']] = df[['user_lat','user_lon']].astype(float)\n",
    "\n",
    "    # convert lat/lon to radians\n",
    "    df['user_lat_r'] = np.radians(df.user_lat)\n",
    "    df['user_lon_r'] = np.radians(df.user_lon)\n",
    "    df['store_lat_r'] = np.radians(df.store_lat)\n",
    "    df['store_lon_r'] = np.radians(df.store_lon)\n",
    "\n",
    "    df['a'] = np.sin((df.store_lat_r-df.user_lat_r)/2.0)**2 + np.cos(df.user_lat_r) * np.cos(df.store_lat_r) * np.sin((df.store_lon_r-df.user_lon_r)/2.0)**2\n",
    "\n",
    "    df['distance'] = 6373 * 2 * np.arcsin(np.sqrt(df['a']))\n",
    "\n",
    "    df.drop(['user_lat','user_lon','user_lat_r','user_lon_r','store_lat_r','store_lon_r','a'],axis=1,inplace=True)\n",
    "\n",
    "    return df\n",
    "\n",
    "def output_file(df):\n",
    "# get and save output files\n",
    "    ### Distance Graph ###\n",
    "\n",
    "    # Before creating the graph, we need to change dfee column to float dtype\n",
    "\n",
    "    df['dfee'] = df['dfee'].apply(lambda x: x.lstrip('HRK'))\n",
    "    df['dfee'] = df['dfee'].astype(float)\n",
    "\n",
    "    # Create graphs\n",
    "    df_test = df[df['dfee']!=0]\n",
    "    df_test = df_test[['dfee','distance']].groupby('distance',as_index=False).mean()\n",
    "    df_test.columns = ['distance','dfee']\n",
    "    fig = df_test.plot(x = 'distance',y = 'dfee',figsize = (10,8))\n",
    "\n",
    "    # save graphs\n",
    "    os.chdir('/Volumes/GoogleDrive-114473456834176483322/My Drive/Resume/portfolio/web_scraper')\n",
    "    fig.figure.savefig(os.path.join('output','DT_graph_geo_'+lon+'_'+lat+'.png'))\n",
    "\n",
    "    # Get distance tiers data in a table\n",
    "    df_distance_tiers = df_test.groupby('dfee', as_index = False).max()\n",
    "    df_distance_tiers.to_csv(os.path.join('output',\"df_distance_tiers_geo_\"+lon+\"_\"+lat+\"_.csv\"))\n"
   ]
  },
  {
   "cell_type": "code",
   "execution_count": 29,
   "metadata": {},
   "outputs": [
    {
     "name": "stdout",
     "output_type": "stream",
     "text": [
      "200\n"
     ]
    },
    {
     "data": {
      "image/png": "[encoded data removed]",
      "text/plain": [
       "<Figure size 720x576 with 1 Axes>"
      ]
     },
     "metadata": {
      "needs_background": "light"
     },
     "output_type": "display_data"
    }
   ],
   "source": [
    "df = data_fetch(lat,lon)\n",
    "df = distance_cal(df)\n",
    "output_file(df)"
   ]
  }
 ],
 "metadata": {
  "kernelspec": {
   "display_name": "Python 3",
   "language": "python",
   "name": "python3"
  },
  "language_info": {
   "codemirror_mode": {
    "name": "ipython",
    "version": 3
   },
   "file_extension": ".py",
   "mimetype": "text/x-python",
   "name": "python",
   "nbconvert_exporter": "python",
   "pygments_lexer": "ipython3",
   "version": "3.8.12"
  }
 },
 "nbformat": 4,
 "nbformat_minor": 1
}
